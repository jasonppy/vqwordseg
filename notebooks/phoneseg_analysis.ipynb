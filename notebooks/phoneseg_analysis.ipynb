{
 "cells": [
  {
   "cell_type": "markdown",
   "metadata": {},
   "source": [
    "# Phone Segmentation Analysis"
   ]
  },
  {
   "cell_type": "markdown",
   "metadata": {},
   "source": [
    "Copyright (c) 2021 Herman Kamper, MIT License"
   ]
  },
  {
   "cell_type": "markdown",
   "metadata": {},
   "source": [
    "## Preliminaries"
   ]
  },
  {
   "cell_type": "code",
   "execution_count": 33,
   "metadata": {},
   "outputs": [],
   "source": [
    "%matplotlib inline\n",
    "from pathlib import Path\n",
    "from scipy.stats import gamma\n",
    "import numpy as np\n",
    "import pylab as plt\n",
    "import sys\n",
    "\n",
    "sys.path.append(\"..\")\n",
    "\n",
    "from utils import eval_segmentation"
   ]
  },
  {
   "cell_type": "markdown",
   "metadata": {},
   "source": [
    "## Data"
   ]
  },
  {
   "cell_type": "code",
   "execution_count": 34,
   "metadata": {},
   "outputs": [],
   "source": [
    "# Data set\n",
    "dataset = \"buckeye\"\n",
    "\n",
    "# Directories\n",
    "phoneref_dir = Path(\"../data/\")/dataset/\"phone_intervals\""
   ]
  },
  {
   "cell_type": "code",
   "execution_count": 35,
   "metadata": {},
   "outputs": [
    {
     "name": "stdout",
     "output_type": "stream",
     "text": [
      "Reading: ../data/buckeye/phone_intervals\n"
     ]
    },
    {
     "name": "stderr",
     "output_type": "stream",
     "text": [
      "100%|██████████| 62481/62481 [00:02<00:00, 28292.92it/s]\n"
     ]
    }
   ],
   "source": [
    "# Read word reference\n",
    "print(\"Reading: {}\".format(phoneref_dir))\n",
    "phoneref_interval_dict = eval_segmentation.get_intervals_from_dir(phoneref_dir)"
   ]
  },
  {
   "cell_type": "code",
   "execution_count": 59,
   "metadata": {},
   "outputs": [
    {
     "name": "stdout",
     "output_type": "stream",
     "text": [
      "No. phone types: 70\n",
      "P(eos): 0.0983\n",
      "Mean training phone length: 7.8728\n",
      "Min training phone length:  0\n",
      "Max training phone length:  111\n",
      "Mean: 7.872796702727266\n",
      "Gamma parameters: 2.2955041539519847 0 3.4296590965314984\n"
     ]
    },
    {
     "data": {
      "text/plain": [
       "[<matplotlib.lines.Line2D at 0x7f90873f1790>]"
      ]
     },
     "execution_count": 59,
     "metadata": {},
     "output_type": "execute_result"
    },
    {
     "data": {
      "image/png": "[encoded data removed]",
      "text/plain": [
       "<Figure size 432x288 with 1 Axes>"
      ]
     },
     "metadata": {
      "needs_background": "light"
     },
     "output_type": "display_data"
    }
   ],
   "source": [
    "# Phone length statistics\n",
    "phone_lengths = []\n",
    "n_phones = []\n",
    "phone_types = set()\n",
    "for utt_key in phoneref_interval_dict:\n",
    "    intervals = phoneref_interval_dict[utt_key]\n",
    "    n_phones.append(len(intervals))\n",
    "    for start, end, label in intervals:\n",
    "        phone_lengths.append(end - start)\n",
    "        phone_types.add(label)\n",
    "print(\"No. phone types:\", len(phone_types))\n",
    "print(f\"P(eos): {len(phoneref_interval_dict)/sum(n_phones):.4f}\")\n",
    "print(\"Mean training phone length: {:.4f}\".format(np.mean(phone_lengths)))\n",
    "print(\"Min training phone length:  {:d}\".format(np.min(phone_lengths)))\n",
    "print(\"Max training phone length:  {:d}\".format(np.max(phone_lengths)))\n",
    "\n",
    "# Histogram\n",
    "plt.figure()\n",
    "n, bins, patches = plt.hist(phone_lengths, bins=range(40), density=True)\n",
    "plt.title(\"phone lengths\")\n",
    "\n",
    "# Gamma\n",
    "mean = np.mean(phone_lengths)\n",
    "var  = np.var(phone_lengths)\n",
    "alpha = (mean**2)/var\n",
    "beta  = alpha / mean\n",
    "shape = alpha\n",
    "loc = 0\n",
    "scale = 1/beta\n",
    "print(\"Mean:\", mean)\n",
    "print(\"Gamma parameters:\", shape, loc, scale)\n",
    "shape, loc, scale = (3, 0, 2.5)\n",
    "plt.plot(bins, gamma.pdf(bins, shape, loc, scale))\n",
    "\n",
    "# plt.show();"
   ]
  },
  {
   "cell_type": "code",
   "execution_count": null,
   "metadata": {},
   "outputs": [],
   "source": []
  },
  {
   "cell_type": "code",
   "execution_count": null,
   "metadata": {},
   "outputs": [],
   "source": []
  }
 ],
 "metadata": {
  "kernelspec": {
   "display_name": "Python 3",
   "language": "python",
   "name": "python3"
  },
  "language_info": {
   "codemirror_mode": {
    "name": "ipython",
    "version": 3
   },
   "file_extension": ".py",
   "mimetype": "text/x-python",
   "name": "python",
   "nbconvert_exporter": "python",
   "pygments_lexer": "ipython3",
   "version": "3.8.3"
  }
 },
 "nbformat": 4,
 "nbformat_minor": 4
}
